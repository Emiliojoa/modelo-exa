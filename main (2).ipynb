{
 "cells": [
  {
   "cell_type": "markdown",
   "id": "9fee5ee9",
   "metadata": {},
   "source": [
    "# Modelo de Examen Practico - TLP3 - Python para Ciencia de Datos.\n"
   ]
  },
  {
   "cell_type": "markdown",
   "id": "999099d0",
   "metadata": {},
   "source": [
    "**A partir del datasets brindado, realizar los siguientes procedimientos:**\n",
    "\n",
    "* Importar datasets con Pandas.\n",
    "* Explorar los datos con los metodos correspondientes. \n",
    "* Limpieza de los datos (Normalización de datos).\n",
    "* Obtener estadisticas.\n",
    "* Mostrar los datos procesados con graficos utilizando la libreria Matplotlib.\n",
    "* Exportar el contenido a un archivo sqlite utilizando PANDAS.\n",
    "\n",
    "\n",
    "**Importante: Se debe documentar cada procedimiento realizado, siguiendo la siguiente estructura:**\n",
    "\n",
    "1. Celda de Markdown (Documentación)\n",
    "2. Código (Sin comentarios, se debe documentar lo sufiente solo en la celda de markdown)."
   ]
  },
  {
   "cell_type": "markdown",
   "id": "dd91f969",
   "metadata": {},
   "source": [
    "## Actividades: \n",
    "### 1. Importación del Dataset con Pandas\n",
    "\n",
    "En esta sección, se debe utilizar la librería Pandas para cargar el archivo CSV que contiene los datos de las calificaciones en un DataFrame, que es la estructura de datos fundamental para el análisis con Pandas.\n",
    "\n",
    "### 2. Exploración Inicial de los Datos\n",
    "\n",
    "A continuación, se deben emplear métodos de Pandas para obtener una visión general del dataset. Esto incluye mostrar las primeras filas, obtener un resumen de la información del DataFrame (tipos de datos, valores no nulos), y calcular estadísticas descriptivas de las columnas numéricas.\n",
    "\n",
    "### 3. Limpieza y Normalización de los Datos\n",
    "\n",
    "Esta etapa crucial deben aplicar la corrección de diversos errores presentes en el dataset. Se abordarán los valores faltantes, la inconsistencia en el formato de la columna 'Asistencia', los posibles valores atípicos y la normalización de los nombres de estudiantes y materias a un formato consistente (por ejemplo, capitalización).\n",
    "\n",
    "### 4. Obtención de Estadísticas Descriptivas\n",
    "\n",
    "Después de la limpieza, deben calcular nuevamente las estadísticas descriptivas para observar el impacto del proceso de limpieza en los datos numéricos. También se pueden calcular estadísticas específicas por grupo (por ejemplo, promedio de calificaciones por materia).\n",
    "\n",
    "### 5. Visualización de los Datos con Matplotlib\n",
    "\n",
    "En esta sección, deben utilizar la librería Matplotlib para crear visualizaciones que permitan comprender mejor la distribución de las calificaciones y la asistencia. Se generarán histogramas, diagramas de dispersión y gráficos de barras.\n",
    "\n",
    "### 6. Exportación a Archivo SQLite\n",
    "\n",
    "Finalmente, deben utilizar la funcionalidad de Pandas para guardar el DataFrame procesado en una base de datos SQLite. Esto permite almacenar los datos de forma estructurada para su posterior consulta y uso.\n",
    "\n"
   ]
  },
  {
   "cell_type": "markdown",
   "id": "d8473534",
   "metadata": {},
   "source": [
    "## Importamos pandas para utilizar el DataFrame"
   ]
  },
  {
   "cell_type": "code",
   "execution_count": 325,
   "id": "63adf074",
   "metadata": {},
   "outputs": [],
   "source": [
    "import pandas as pd\n",
    "import matplotlib.pyplot as plt"
   ]
  },
  {
   "cell_type": "markdown",
   "id": "fa4cbdd0",
   "metadata": {},
   "source": [
    "## Importamos el Dataset con Pandas"
   ]
  },
  {
   "cell_type": "code",
   "execution_count": 326,
   "id": "38676b9a",
   "metadata": {},
   "outputs": [],
   "source": [
    "df=pd.read_csv(\"datasets_calificaciones (1).csv\")"
   ]
  },
  {
   "cell_type": "markdown",
   "id": "d5c3783b",
   "metadata": {},
   "source": [
    "# punto 2\n",
    "## Iniciamos la exploracion del DataFrame"
   ]
  },
  {
   "cell_type": "code",
   "execution_count": 327,
   "id": "84cd1a81",
   "metadata": {},
   "outputs": [
    {
     "name": "stdout",
     "output_type": "stream",
     "text": [
      "Primeros 5 datos\n",
      "        estudiante      Materia Parcial 1 Parcial 2 Final Asistencia\n",
      "0        ana pérez  matematicas         8       7.5     9        95%\n",
      "1     carlos lópez       fisica       6.2         7   NaN        88%\n",
      "2      maría gómez      quimica         9       8.8   9.5       100%\n",
      "3  pedro rodríguez     historia       7.5         6     7         75\n",
      "4     laura vargas  matematicas                 9.2   8.5        92%\n",
      "<-------------------------------------------------------------------------->\n",
      "ultimos 5 datos\n",
      "         estudiante      Materia Parcial 1 Parcial 2 Final Asistencia\n",
      "95  josefina torres     historia       7.4       6.8   7.2        81%\n",
      "96  bautista vargas  matematicas       8.7       NaN   8.5        92%\n",
      "97        emma soto       fisica       6.6       7.0   6.4        83%\n",
      "98       mateo díaz      quimica       9.5       9.7              98%\n",
      "99  sofía fernández     historia       7.1       7.6   7.5        87%\n",
      "<-------------------------------------------------------------------------->\n",
      "Descripcion de los datos\n",
      "        estudiante      Materia Parcial 1 Parcial 2 Final Asistencia\n",
      "count          100          100        95        90    89        100\n",
      "unique          96            7        49        45    46         35\n",
      "top     mateo díaz  matematicas                 7.5   9.5        99%\n",
      "freq             2           25         7         5     4          5\n",
      "<-------------------------------------------------------------------------->\n",
      "informacion de datos\n",
      "<class 'pandas.core.frame.DataFrame'>\n",
      "RangeIndex: 100 entries, 0 to 99\n",
      "Data columns (total 6 columns):\n",
      " #   Column      Non-Null Count  Dtype \n",
      "---  ------      --------------  ----- \n",
      " 0   estudiante  100 non-null    object\n",
      " 1   Materia     100 non-null    object\n",
      " 2   Parcial 1   95 non-null     object\n",
      " 3   Parcial 2   90 non-null     object\n",
      " 4   Final       89 non-null     object\n",
      " 5   Asistencia  100 non-null    object\n",
      "dtypes: object(6)\n",
      "memory usage: 4.8+ KB\n",
      "None\n"
     ]
    }
   ],
   "source": [
    "print(\"Primeros 5 datos\")\n",
    "print(df.head())\n",
    "\n",
    "print(\"<-------------------------------------------------------------------------->\")\n",
    "\n",
    "print(\"ultimos 5 datos\")\n",
    "print(df.tail())\n",
    "print(\"<-------------------------------------------------------------------------->\")\n",
    "print(\"Descripcion de los datos\")\n",
    "print(df.describe())\n",
    "print(\"<-------------------------------------------------------------------------->\")\n",
    "print(\"informacion de datos\")\n",
    "print(df.info())"
   ]
  },
  {
   "cell_type": "markdown",
   "id": "ce5a52fd",
   "metadata": {},
   "source": [
    "## Ahora mostramos la cantidad de datos nulos (si es que los hay )."
   ]
  },
  {
   "cell_type": "code",
   "execution_count": 328,
   "id": "d7571fda",
   "metadata": {},
   "outputs": [
    {
     "data": {
      "text/plain": [
       "estudiante     0\n",
       "Materia        0\n",
       "Parcial 1      5\n",
       "Parcial 2     10\n",
       "Final         11\n",
       "Asistencia     0\n",
       "dtype: int64"
      ]
     },
     "execution_count": 328,
     "metadata": {},
     "output_type": "execute_result"
    }
   ],
   "source": [
    "df.isnull().sum()"
   ]
  },
  {
   "cell_type": "markdown",
   "id": "2e8afd54",
   "metadata": {},
   "source": [
    "### 3. Limpieza y Normalización de los Datos"
   ]
  },
  {
   "cell_type": "code",
   "execution_count": 329,
   "id": "4ba8386b",
   "metadata": {},
   "outputs": [
    {
     "name": "stdout",
     "output_type": "stream",
     "text": [
      "<class 'pandas.core.frame.DataFrame'>\n",
      "RangeIndex: 100 entries, 0 to 99\n",
      "Data columns (total 6 columns):\n",
      " #   Column      Non-Null Count  Dtype \n",
      "---  ------      --------------  ----- \n",
      " 0   estudiante  100 non-null    object\n",
      " 1   Materia     100 non-null    object\n",
      " 2   Parcial 1   95 non-null     object\n",
      " 3   Parcial 2   90 non-null     object\n",
      " 4   Final       89 non-null     object\n",
      " 5   Asistencia  100 non-null    object\n",
      "dtypes: object(6)\n",
      "memory usage: 4.8+ KB\n"
     ]
    }
   ],
   "source": [
    "df.info()"
   ]
  },
  {
   "cell_type": "markdown",
   "id": "ea50d058",
   "metadata": {},
   "source": [
    "## Convertimos los datos de las columnas parcial 1, 2 y Final a  int (enteros)"
   ]
  },
  {
   "cell_type": "code",
   "execution_count": 330,
   "id": "e3348162",
   "metadata": {},
   "outputs": [
    {
     "name": "stdout",
     "output_type": "stream",
     "text": [
      "<class 'pandas.core.frame.DataFrame'>\n",
      "RangeIndex: 100 entries, 0 to 99\n",
      "Data columns (total 6 columns):\n",
      " #   Column      Non-Null Count  Dtype  \n",
      "---  ------      --------------  -----  \n",
      " 0   estudiante  100 non-null    object \n",
      " 1   Materia     100 non-null    object \n",
      " 2   Parcial 1   88 non-null     float64\n",
      " 3   Parcial 2   88 non-null     float64\n",
      " 4   Final       85 non-null     float64\n",
      " 5   Asistencia  100 non-null    object \n",
      "dtypes: float64(3), object(3)\n",
      "memory usage: 4.8+ KB\n"
     ]
    }
   ],
   "source": [
    "df[\"Parcial 1\"]=pd.to_numeric(df[\"Parcial 1\"], errors=\"coerce\")\n",
    "\n",
    "df[\"Parcial 2\"]=pd.to_numeric(df[\"Parcial 2\"], errors=\"coerce\")\n",
    "\n",
    "df[\"Final\"]=pd.to_numeric(df[\"Final\"], errors=\"coerce\")\n",
    "df.info()"
   ]
  },
  {
   "cell_type": "markdown",
   "id": "7f3ac7a1",
   "metadata": {},
   "source": [
    "## Convertimos todos valores NaN con la media de cada uno de ellas."
   ]
  },
  {
   "cell_type": "code",
   "execution_count": 331,
   "id": "b7db24d7",
   "metadata": {},
   "outputs": [
    {
     "data": {
      "text/html": [
       "<div>\n",
       "<style scoped>\n",
       "    .dataframe tbody tr th:only-of-type {\n",
       "        vertical-align: middle;\n",
       "    }\n",
       "\n",
       "    .dataframe tbody tr th {\n",
       "        vertical-align: top;\n",
       "    }\n",
       "\n",
       "    .dataframe thead th {\n",
       "        text-align: right;\n",
       "    }\n",
       "</style>\n",
       "<table border=\"1\" class=\"dataframe\">\n",
       "  <thead>\n",
       "    <tr style=\"text-align: right;\">\n",
       "      <th></th>\n",
       "      <th>estudiante</th>\n",
       "      <th>Materia</th>\n",
       "      <th>Parcial 1</th>\n",
       "      <th>Parcial 2</th>\n",
       "      <th>Final</th>\n",
       "      <th>Asistencia</th>\n",
       "    </tr>\n",
       "  </thead>\n",
       "  <tbody>\n",
       "    <tr>\n",
       "      <th>0</th>\n",
       "      <td>ana pérez</td>\n",
       "      <td>matematicas</td>\n",
       "      <td>8.0</td>\n",
       "      <td>7.5</td>\n",
       "      <td>9.0</td>\n",
       "      <td>95%</td>\n",
       "    </tr>\n",
       "    <tr>\n",
       "      <th>1</th>\n",
       "      <td>carlos lópez</td>\n",
       "      <td>fisica</td>\n",
       "      <td>6.2</td>\n",
       "      <td>7.0</td>\n",
       "      <td>7.8</td>\n",
       "      <td>88%</td>\n",
       "    </tr>\n",
       "    <tr>\n",
       "      <th>2</th>\n",
       "      <td>maría gómez</td>\n",
       "      <td>quimica</td>\n",
       "      <td>9.0</td>\n",
       "      <td>8.8</td>\n",
       "      <td>9.5</td>\n",
       "      <td>100%</td>\n",
       "    </tr>\n",
       "    <tr>\n",
       "      <th>3</th>\n",
       "      <td>pedro rodríguez</td>\n",
       "      <td>historia</td>\n",
       "      <td>7.5</td>\n",
       "      <td>6.0</td>\n",
       "      <td>7.0</td>\n",
       "      <td>75</td>\n",
       "    </tr>\n",
       "    <tr>\n",
       "      <th>4</th>\n",
       "      <td>laura vargas</td>\n",
       "      <td>matematicas</td>\n",
       "      <td>7.9</td>\n",
       "      <td>9.2</td>\n",
       "      <td>8.5</td>\n",
       "      <td>92%</td>\n",
       "    </tr>\n",
       "  </tbody>\n",
       "</table>\n",
       "</div>"
      ],
      "text/plain": [
       "        estudiante      Materia  Parcial 1  Parcial 2  Final Asistencia\n",
       "0        ana pérez  matematicas        8.0        7.5    9.0        95%\n",
       "1     carlos lópez       fisica        6.2        7.0    7.8        88%\n",
       "2      maría gómez      quimica        9.0        8.8    9.5       100%\n",
       "3  pedro rodríguez     historia        7.5        6.0    7.0         75\n",
       "4     laura vargas  matematicas        7.9        9.2    8.5        92%"
      ]
     },
     "execution_count": 331,
     "metadata": {},
     "output_type": "execute_result"
    }
   ],
   "source": [
    "df[\"Parcial 1\"]=df[\"Parcial 1\"].fillna(df[\"Parcial 1\"].median())\n",
    "df[\"Parcial 2\"]=df[\"Parcial 2\"].fillna(df[\"Parcial 2\"].median())\n",
    "df[\"Final\"]=df[\"Final\"].fillna(df[\"Final\"].median())\n",
    "df.head()\n",
    "\n"
   ]
  },
  {
   "cell_type": "markdown",
   "id": "f69b0be2",
   "metadata": {},
   "source": [
    "### Verificamos si quedaron datos nulos"
   ]
  },
  {
   "cell_type": "code",
   "execution_count": 332,
   "id": "a55dee21",
   "metadata": {},
   "outputs": [
    {
     "data": {
      "text/plain": [
       "estudiante    0\n",
       "Materia       0\n",
       "Parcial 1     0\n",
       "Parcial 2     0\n",
       "Final         0\n",
       "Asistencia    0\n",
       "dtype: int64"
      ]
     },
     "execution_count": 332,
     "metadata": {},
     "output_type": "execute_result"
    }
   ],
   "source": [
    "df.isnull().sum()"
   ]
  },
  {
   "cell_type": "markdown",
   "id": "98aa7349",
   "metadata": {},
   "source": [
    "## Cambiamos el nombre de la columna de \"estudiantes\" a \"Estudiantes\""
   ]
  },
  {
   "cell_type": "code",
   "execution_count": 333,
   "id": "7f391149",
   "metadata": {},
   "outputs": [],
   "source": [
    "df=df.rename(columns={\"estudiante\":\"Estudiantes\"})\n"
   ]
  },
  {
   "cell_type": "markdown",
   "id": "90ad2a62",
   "metadata": {},
   "source": [
    "## Realizamos la capitalizacion."
   ]
  },
  {
   "cell_type": "code",
   "execution_count": 334,
   "id": "45d93090",
   "metadata": {},
   "outputs": [
    {
     "data": {
      "text/html": [
       "<div>\n",
       "<style scoped>\n",
       "    .dataframe tbody tr th:only-of-type {\n",
       "        vertical-align: middle;\n",
       "    }\n",
       "\n",
       "    .dataframe tbody tr th {\n",
       "        vertical-align: top;\n",
       "    }\n",
       "\n",
       "    .dataframe thead th {\n",
       "        text-align: right;\n",
       "    }\n",
       "</style>\n",
       "<table border=\"1\" class=\"dataframe\">\n",
       "  <thead>\n",
       "    <tr style=\"text-align: right;\">\n",
       "      <th></th>\n",
       "      <th>Estudiantes</th>\n",
       "      <th>Materia</th>\n",
       "      <th>Parcial 1</th>\n",
       "      <th>Parcial 2</th>\n",
       "      <th>Final</th>\n",
       "      <th>Asistencia</th>\n",
       "    </tr>\n",
       "  </thead>\n",
       "  <tbody>\n",
       "    <tr>\n",
       "      <th>0</th>\n",
       "      <td>Ana Pérez</td>\n",
       "      <td>Matematicas</td>\n",
       "      <td>8.0</td>\n",
       "      <td>7.5</td>\n",
       "      <td>9.0</td>\n",
       "      <td>95%</td>\n",
       "    </tr>\n",
       "    <tr>\n",
       "      <th>1</th>\n",
       "      <td>Carlos López</td>\n",
       "      <td>Fisica</td>\n",
       "      <td>6.2</td>\n",
       "      <td>7.0</td>\n",
       "      <td>7.8</td>\n",
       "      <td>88%</td>\n",
       "    </tr>\n",
       "    <tr>\n",
       "      <th>2</th>\n",
       "      <td>María Gómez</td>\n",
       "      <td>Quimica</td>\n",
       "      <td>9.0</td>\n",
       "      <td>8.8</td>\n",
       "      <td>9.5</td>\n",
       "      <td>100%</td>\n",
       "    </tr>\n",
       "    <tr>\n",
       "      <th>3</th>\n",
       "      <td>Pedro Rodríguez</td>\n",
       "      <td>Historia</td>\n",
       "      <td>7.5</td>\n",
       "      <td>6.0</td>\n",
       "      <td>7.0</td>\n",
       "      <td>75</td>\n",
       "    </tr>\n",
       "    <tr>\n",
       "      <th>4</th>\n",
       "      <td>Laura Vargas</td>\n",
       "      <td>Matematicas</td>\n",
       "      <td>7.9</td>\n",
       "      <td>9.2</td>\n",
       "      <td>8.5</td>\n",
       "      <td>92%</td>\n",
       "    </tr>\n",
       "  </tbody>\n",
       "</table>\n",
       "</div>"
      ],
      "text/plain": [
       "       Estudiantes      Materia  Parcial 1  Parcial 2  Final Asistencia\n",
       "0        Ana Pérez  Matematicas        8.0        7.5    9.0        95%\n",
       "1     Carlos López       Fisica        6.2        7.0    7.8        88%\n",
       "2      María Gómez      Quimica        9.0        8.8    9.5       100%\n",
       "3  Pedro Rodríguez     Historia        7.5        6.0    7.0         75\n",
       "4     Laura Vargas  Matematicas        7.9        9.2    8.5        92%"
      ]
     },
     "execution_count": 334,
     "metadata": {},
     "output_type": "execute_result"
    }
   ],
   "source": [
    "df[\"Estudiantes\"]=df[\"Estudiantes\"].str.title()\n",
    "df[\"Materia\"]=df[\"Materia\"].str.title()\n",
    "df.head()\n"
   ]
  },
  {
   "cell_type": "markdown",
   "id": "e077d7ad",
   "metadata": {},
   "source": [
    "### Limitaremos los valores a 100 porque hay alumnos con mas del 100% de asistencia. "
   ]
  },
  {
   "cell_type": "code",
   "execution_count": 335,
   "id": "3dfce634",
   "metadata": {},
   "outputs": [
    {
     "data": {
      "text/html": [
       "<div>\n",
       "<style scoped>\n",
       "    .dataframe tbody tr th:only-of-type {\n",
       "        vertical-align: middle;\n",
       "    }\n",
       "\n",
       "    .dataframe tbody tr th {\n",
       "        vertical-align: top;\n",
       "    }\n",
       "\n",
       "    .dataframe thead th {\n",
       "        text-align: right;\n",
       "    }\n",
       "</style>\n",
       "<table border=\"1\" class=\"dataframe\">\n",
       "  <thead>\n",
       "    <tr style=\"text-align: right;\">\n",
       "      <th></th>\n",
       "      <th>Estudiantes</th>\n",
       "      <th>Materia</th>\n",
       "      <th>Parcial 1</th>\n",
       "      <th>Parcial 2</th>\n",
       "      <th>Final</th>\n",
       "      <th>Asistencia</th>\n",
       "    </tr>\n",
       "  </thead>\n",
       "  <tbody>\n",
       "    <tr>\n",
       "      <th>0</th>\n",
       "      <td>Ana Pérez</td>\n",
       "      <td>Matematicas</td>\n",
       "      <td>8.0</td>\n",
       "      <td>7.5</td>\n",
       "      <td>9.0</td>\n",
       "      <td>95</td>\n",
       "    </tr>\n",
       "    <tr>\n",
       "      <th>1</th>\n",
       "      <td>Carlos López</td>\n",
       "      <td>Fisica</td>\n",
       "      <td>6.2</td>\n",
       "      <td>7.0</td>\n",
       "      <td>7.8</td>\n",
       "      <td>88</td>\n",
       "    </tr>\n",
       "    <tr>\n",
       "      <th>2</th>\n",
       "      <td>María Gómez</td>\n",
       "      <td>Quimica</td>\n",
       "      <td>9.0</td>\n",
       "      <td>8.8</td>\n",
       "      <td>9.5</td>\n",
       "      <td>100</td>\n",
       "    </tr>\n",
       "    <tr>\n",
       "      <th>3</th>\n",
       "      <td>Pedro Rodríguez</td>\n",
       "      <td>Historia</td>\n",
       "      <td>7.5</td>\n",
       "      <td>6.0</td>\n",
       "      <td>7.0</td>\n",
       "      <td>75</td>\n",
       "    </tr>\n",
       "    <tr>\n",
       "      <th>4</th>\n",
       "      <td>Laura Vargas</td>\n",
       "      <td>Matematicas</td>\n",
       "      <td>7.9</td>\n",
       "      <td>9.2</td>\n",
       "      <td>8.5</td>\n",
       "      <td>92</td>\n",
       "    </tr>\n",
       "  </tbody>\n",
       "</table>\n",
       "</div>"
      ],
      "text/plain": [
       "       Estudiantes      Materia  Parcial 1  Parcial 2  Final  Asistencia\n",
       "0        Ana Pérez  Matematicas        8.0        7.5    9.0          95\n",
       "1     Carlos López       Fisica        6.2        7.0    7.8          88\n",
       "2      María Gómez      Quimica        9.0        8.8    9.5         100\n",
       "3  Pedro Rodríguez     Historia        7.5        6.0    7.0          75\n",
       "4     Laura Vargas  Matematicas        7.9        9.2    8.5          92"
      ]
     },
     "execution_count": 335,
     "metadata": {},
     "output_type": "execute_result"
    }
   ],
   "source": [
    "df[\"Asistencia\"]=df[\"Asistencia\"].str.replace('%', '').astype(int).clip(lower=0, upper=100)\n",
    "df.head()\n"
   ]
  },
  {
   "cell_type": "markdown",
   "id": "af7dce4f",
   "metadata": {},
   "source": [
    "## 4. Obtención de Estadísticas Descriptivas\n",
    "### Mostramos nuevamente los datos de DataFrame"
   ]
  },
  {
   "cell_type": "code",
   "execution_count": 336,
   "id": "e8ff26d2",
   "metadata": {},
   "outputs": [
    {
     "name": "stdout",
     "output_type": "stream",
     "text": [
      "Primeros 5 datos\n",
      "       Estudiantes      Materia  Parcial 1  Parcial 2  Final  Asistencia\n",
      "0        Ana Pérez  Matematicas        8.0        7.5    9.0          95\n",
      "1     Carlos López       Fisica        6.2        7.0    7.8          88\n",
      "2      María Gómez      Quimica        9.0        8.8    9.5         100\n",
      "3  Pedro Rodríguez     Historia        7.5        6.0    7.0          75\n",
      "4     Laura Vargas  Matematicas        7.9        9.2    8.5          92\n",
      "<-------------------------------------------------------------------------->\n",
      "ultimos 5 datos\n",
      "        Estudiantes      Materia  Parcial 1  Parcial 2  Final  Asistencia\n",
      "95  Josefina Torres     Historia        7.4        6.8    7.2          81\n",
      "96  Bautista Vargas  Matematicas        8.7        7.7    8.5          92\n",
      "97        Emma Soto       Fisica        6.6        7.0    6.4          83\n",
      "98       Mateo Díaz      Quimica        9.5        9.7    7.8          98\n",
      "99  Sofía Fernández     Historia        7.1        7.6    7.5          87\n",
      "<-------------------------------------------------------------------------->\n",
      "Descripcion de los datos\n",
      "       Parcial 1  Parcial 2  Final  Asistencia\n",
      "count      100.0      100.0  100.0       100.0\n",
      "mean         7.8        7.8    7.9        88.2\n",
      "std          1.1        1.1    1.1         8.4\n",
      "min          5.5        5.8    5.7        70.0\n",
      "25%          7.1        7.0    7.1        81.8\n",
      "50%          7.9        7.7    7.8        88.5\n",
      "75%          8.8        8.8    8.8        96.0\n",
      "max          9.9        9.9    9.9       100.0\n",
      "<-------------------------------------------------------------------------->\n",
      "informacion de datos\n",
      "<class 'pandas.core.frame.DataFrame'>\n",
      "RangeIndex: 100 entries, 0 to 99\n",
      "Data columns (total 6 columns):\n",
      " #   Column       Non-Null Count  Dtype  \n",
      "---  ------       --------------  -----  \n",
      " 0   Estudiantes  100 non-null    object \n",
      " 1   Materia      100 non-null    object \n",
      " 2   Parcial 1    100 non-null    float64\n",
      " 3   Parcial 2    100 non-null    float64\n",
      " 4   Final        100 non-null    float64\n",
      " 5   Asistencia   100 non-null    int64  \n",
      "dtypes: float64(3), int64(1), object(2)\n",
      "memory usage: 4.8+ KB\n",
      "None\n"
     ]
    }
   ],
   "source": [
    "print(\"Primeros 5 datos\")\n",
    "print(df.head())\n",
    "\n",
    "print(\"<-------------------------------------------------------------------------->\")\n",
    "\n",
    "print(\"ultimos 5 datos\")\n",
    "print(df.tail())\n",
    "print(\"<-------------------------------------------------------------------------->\")\n",
    "print(\"Descripcion de los datos\")\n",
    "print(df.describe().round(1))\n",
    "print(\"<-------------------------------------------------------------------------->\")\n",
    "print(\"informacion de datos\")\n",
    "print(df.info())"
   ]
  },
  {
   "cell_type": "markdown",
   "id": "5dc9e256",
   "metadata": {},
   "source": [
    "## 5. Visualización de los Datos con Matplotlib\n",
    "En esta sección, deben utilizar la librería Matplotlib para crear visualizaciones que permitan comprender mejor la distribución de las calificaciones y la asistencia. Se generarán histogramas, diagramas de dispersión y gráficos de barras.\n",
    "Realizaremos grasficos para una mejor comprension."
   ]
  },
  {
   "cell_type": "code",
   "execution_count": null,
   "id": "2973794a",
   "metadata": {},
   "outputs": [],
   "source": []
  },
  {
   "cell_type": "code",
   "execution_count": 337,
   "id": "d52b6b45",
   "metadata": {},
   "outputs": [
    {
     "data": {
      "image/png": "[encoded data removed]",
      "text/plain": [
       "<Figure size 1500x600 with 1 Axes>"
      ]
     },
     "metadata": {},
     "output_type": "display_data"
    }
   ],
   "source": [
    "asistencia_por_materia = df.groupby(\"Materia\")[\"Asistencia\"].mean()\n",
    "\n",
    "plt.figure(figsize=(15,6))\n",
    "plt.title(\"Asistencia por materia\")\n",
    "plt.bar(asistencia_por_materia.index,asistencia_por_materia.values, color=\"pink\" , alpha=0.8, edgecolor=\"black\" )\n",
    "plt.xlabel(\"Asistencia por Materia\")\n",
    "plt.grid()\n",
    "plt.show()"
   ]
  },
  {
   "cell_type": "markdown",
   "id": "f0b5552e",
   "metadata": {},
   "source": [
    "## Grafico para entender mas facil el Promedio por notas\n"
   ]
  },
  {
   "cell_type": "code",
   "execution_count": 338,
   "id": "5fd9abfa",
   "metadata": {},
   "outputs": [
    {
     "data": {
      "image/png": "[encoded data removed]",
      "text/plain": [
       "<Figure size 1500x600 with 1 Axes>"
      ]
     },
     "metadata": {},
     "output_type": "display_data"
    }
   ],
   "source": [
    "promedio_materia=df.groupby(\"Materia\")[[\"Parcial 1\", \"Parcial 2\", \"Final\"]].mean().round(2)\n",
    "promedio_materia\n",
    "\n",
    "promedio_materia.plot(kind=\"bar\", color=[\"green\", \"pink\", \"red\"], alpha=0.7,figsize=(15,6) )\n",
    "plt.title(\"Promedio por materia\")\n",
    "plt.xlabel(\"Materia\")\n",
    "plt.ylabel(\"Notas Promedio\")\n",
    "plt.xticks(rotation=50)\n",
    "plt.grid()\n",
    "plt.show()\n"
   ]
  },
  {
   "cell_type": "markdown",
   "id": "8d3d86d8",
   "metadata": {},
   "source": []
  },
  {
   "cell_type": "code",
   "execution_count": 339,
   "id": "44e61ec0",
   "metadata": {},
   "outputs": [
    {
     "data": {
      "image/png": "[encoded data removed]",
      "text/plain": [
       "<Figure size 1500x600 with 1 Axes>"
      ]
     },
     "metadata": {},
     "output_type": "display_data"
    }
   ],
   "source": [
    "promedio_materia.plot(kind=\"pie\", y=\"Final\", autopct=\"%1.1f%%\", figsize=(15,6), startangle=90)\n",
    "plt.title(\"fELIZ CUMPLEAÑOS GATON\")\n",
    "plt.grid()\n",
    "plt.show()"
   ]
  },
  {
   "cell_type": "code",
   "execution_count": 340,
   "id": "891cc217",
   "metadata": {},
   "outputs": [],
   "source": [
    "import sqlite3 \n",
    "\n",
    "conn= sqlite3.connect(\"felizcumple_gaton.SQLite\")\n",
    "df.to_sql(\"felizcumple_gaton\", conn, if_exists=\"replace\", index=False)\n",
    "conn.close()\n"
   ]
  },
  {
   "cell_type": "code",
   "execution_count": null,
   "id": "938b5a85",
   "metadata": {},
   "outputs": [],
   "source": []
  }
 ],
 "metadata": {
  "kernelspec": {
   "display_name": "env",
   "language": "python",
   "name": "python3"
  },
  "language_info": {
   "codemirror_mode": {
    "name": "ipython",
    "version": 3
   },
   "file_extension": ".py",
   "mimetype": "text/x-python",
   "name": "python",
   "nbconvert_exporter": "python",
   "pygments_lexer": "ipython3",
   "version": "3.12.6"
  }
 },
 "nbformat": 4,
 "nbformat_minor": 5
}
